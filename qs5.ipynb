{
 "cells": [
  {
   "cell_type": "code",
   "execution_count": 5,
   "metadata": {},
   "outputs": [
    {
     "name": "stdout",
     "output_type": "stream",
     "text": [
      "2\n",
      "This function will return the minimum value.\n",
      "Help on function my_min in module __main__:\n",
      "\n",
      "my_min(*args)\n",
      "    This function will return the minimum value.\n",
      "\n"
     ]
    }
   ],
   "source": [
    "#5.Write a program to add variable length integer arguments passed to the\n",
    "#function. [Also demo the use of docstrings]\n",
    "\n",
    "def my_min(*args):\n",
    "    '''This function will return the minimum value.'''\n",
    "    result = args[0]\n",
    "    for num in args:\n",
    "        if num < result:\n",
    "            result = num\n",
    "    return result\n",
    "\n",
    "min=my_min(4, 5, 6, 7, 2)\n",
    "print(min)\n",
    "print (my_min.__doc__)\n",
    "help(my_min)\n"
   ]
  },
  {
   "cell_type": "code",
   "execution_count": null,
   "metadata": {},
   "outputs": [],
   "source": []
  }
 ],
 "metadata": {
  "kernelspec": {
   "display_name": "Python 3",
   "language": "python",
   "name": "python3"
  },
  "language_info": {
   "codemirror_mode": {
    "name": "ipython",
    "version": 3
   },
   "file_extension": ".py",
   "mimetype": "text/x-python",
   "name": "python",
   "nbconvert_exporter": "python",
   "pygments_lexer": "ipython3",
   "version": "3.7.3"
  }
 },
 "nbformat": 4,
 "nbformat_minor": 2
}
