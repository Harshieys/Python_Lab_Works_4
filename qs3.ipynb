{
 "cells": [
  {
   "cell_type": "code",
   "execution_count": 11,
   "metadata": {},
   "outputs": [
    {
     "name": "stdin",
     "output_type": "stream",
     "text": [
      "Enter string 1:  hello\n",
      "Enter string 2:  hell\n",
      "Enter n:  4\n"
     ]
    },
    {
     "name": "stdout",
     "output_type": "stream",
     "text": [
      "The strings are same upto n terms\n"
     ]
    }
   ],
   "source": [
    "#3.Write a function called compare which takes two strings S1 and S2 and an\n",
    "#integer n as arguments. The function should return True if the first n\n",
    "#characters of both the strings are the same else the function should return\n",
    "#False.\n",
    "\n",
    "def compare(s1, s2,n):\n",
    "\n",
    "    if(n<=len(s1) and n<=len(s2)):\n",
    "        flag=0\n",
    "        for i in range(n):\n",
    "            if(s1[i]==s2[i]):\n",
    "                pass\n",
    "            else:\n",
    "                flag=i+1\n",
    "        return flag\n",
    "    else:print(f'n does not match with string lengths.')\n",
    "        \n",
    "s1=input(\"Enter string 1: \")\n",
    "s2=input(\"Enter string 2: \")\n",
    "n=int(input(\"Enter n: \"))\n",
    "flag=-1\n",
    "res=compare(s1, s2,n)\n",
    "if(res==0):\n",
    "    print(f'The strings are same upto n terms')\n",
    "else:\n",
    "    print(\"The strings are not same.\")"
   ]
  },
  {
   "cell_type": "code",
   "execution_count": null,
   "metadata": {},
   "outputs": [],
   "source": []
  },
  {
   "cell_type": "code",
   "execution_count": null,
   "metadata": {},
   "outputs": [],
   "source": []
  }
 ],
 "metadata": {
  "kernelspec": {
   "display_name": "Python 3",
   "language": "python",
   "name": "python3"
  },
  "language_info": {
   "codemirror_mode": {
    "name": "ipython",
    "version": 3
   },
   "file_extension": ".py",
   "mimetype": "text/x-python",
   "name": "python",
   "nbconvert_exporter": "python",
   "pygments_lexer": "ipython3",
   "version": "3.7.3"
  }
 },
 "nbformat": 4,
 "nbformat_minor": 2
}
