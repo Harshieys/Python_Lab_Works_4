{
 "cells": [
  {
   "cell_type": "code",
   "execution_count": 2,
   "metadata": {},
   "outputs": [
    {
     "name": "stdin",
     "output_type": "stream",
     "text": [
      "Enter Principal Amount:  1000\n",
      "Enter time period in months:  12\n",
      "Is the account holder a senior citizen(above 50years)?(Y/N):  y\n"
     ]
    },
    {
     "name": "stdout",
     "output_type": "stream",
     "text": [
      "The principal is 1000\n",
      "The time period is 12\n",
      "The rate of interest is 12\n",
      "The Simple Interest is 1440.0\n"
     ]
    }
   ],
   "source": [
    "#1.Write a program using functions to calculate the simple interest. \n",
    "#Suppose the customer is a senior citizen. He is being offered a 12 percent rate of interest, \n",
    "#for all other customers, the rate of interest is 10 percent.\n",
    "\n",
    "def simple_interest(p,t,r):\n",
    "    print('The principal is', p)\n",
    "    print('The time period is', t)\n",
    "    print('The rate of interest is',r)\n",
    "    \n",
    "    si = (p * t * r)/100\n",
    "    \n",
    "    print('The Simple Interest is', si)\n",
    "\n",
    "p=int(input(\"Enter Principal Amount: \"))\n",
    "t=int(input(\"Enter time period in months: \"))\n",
    "res=input(\"Is the account holder a senior citizen(above 50years)?(Y/N): \")\n",
    "\n",
    "if(res=='Y' or res=='y'):\n",
    "    simple_interest(p,t,12)\n",
    "elif(res=='N' or res=='n'):\n",
    "    simple_interest(p,t,10)\n",
    "    \n",
    "    "
   ]
  },
  {
   "cell_type": "code",
   "execution_count": null,
   "metadata": {},
   "outputs": [],
   "source": []
  }
 ],
 "metadata": {
  "kernelspec": {
   "display_name": "Python 3",
   "language": "python",
   "name": "python3"
  },
  "language_info": {
   "codemirror_mode": {
    "name": "ipython",
    "version": 3
   },
   "file_extension": ".py",
   "mimetype": "text/x-python",
   "name": "python",
   "nbconvert_exporter": "python",
   "pygments_lexer": "ipython3",
   "version": "3.7.3"
  }
 },
 "nbformat": 4,
 "nbformat_minor": 2
}
