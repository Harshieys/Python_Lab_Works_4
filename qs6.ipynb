{
 "cells": [
  {
   "cell_type": "code",
   "execution_count": 8,
   "metadata": {},
   "outputs": [
    {
     "name": "stdin",
     "output_type": "stream",
     "text": [
      "Enter the desired shape(rec,sq,tri): rec\n",
      "Enter length:  12\n",
      "Enter breadth:  1\n"
     ]
    },
    {
     "name": "stdout",
     "output_type": "stream",
     "text": [
      "Area of Rectangle: 12.0\n"
     ]
    }
   ],
   "source": [
    "x=input(\"Enter the desired shape(rec,sq,tri):\")\n",
    "\n",
    "Triarea=lambda s,a,b,c:(s*(s-a)*(s-b)*(s-c)) ** 0.5\n",
    "Sqarea = lambda j: j ** 2\n",
    "Rectarea = lambda l,b: l*b \n",
    "\n",
    "if(x==\"tri\" or s==\"Tri\"):\n",
    "    a = float(input('Enter first side: '))\n",
    "    b = float(input('Enter second side: '))\n",
    "    c = float(input('Enter third side: '))\n",
    "    s=(a+b+c)/2\n",
    "    print(\"Area of Triangle:\",Triarea(s,a,b,c))\n",
    "    \n",
    "elif(x==\"rec\" or x==\"Rec\"):\n",
    "    a = float(input('Enter length: '))\n",
    "    b = float(input('Enter breadth: '))\n",
    "    print(\"Area of Rectangle:\",Rectarea(a,b))\n",
    "    \n",
    "elif(x==\"sq\" or x==\"Sq\"):\n",
    "    a = float(input('Enter a side: '))\n",
    "    print(\"Area of Square:\",Sqarea(a))"
   ]
  },
  {
   "cell_type": "code",
   "execution_count": null,
   "metadata": {},
   "outputs": [],
   "source": []
  },
  {
   "cell_type": "code",
   "execution_count": null,
   "metadata": {},
   "outputs": [],
   "source": []
  }
 ],
 "metadata": {
  "kernelspec": {
   "display_name": "Python 3",
   "language": "python",
   "name": "python3"
  },
  "language_info": {
   "codemirror_mode": {
    "name": "ipython",
    "version": 3
   },
   "file_extension": ".py",
   "mimetype": "text/x-python",
   "name": "python",
   "nbconvert_exporter": "python",
   "pygments_lexer": "ipython3",
   "version": "3.7.3"
  }
 },
 "nbformat": 4,
 "nbformat_minor": 2
}
