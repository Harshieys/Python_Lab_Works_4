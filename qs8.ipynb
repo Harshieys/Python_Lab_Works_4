{
 "cells": [
  {
   "cell_type": "code",
   "execution_count": 18,
   "metadata": {},
   "outputs": [
    {
     "name": "stdin",
     "output_type": "stream",
     "text": [
      "Enter number: 4\n"
     ]
    },
    {
     "name": "stdout",
     "output_type": "stream",
     "text": [
      "1/1!+\n",
      "4/2!+\n",
      "27/3!+\n",
      "256/4!+\n",
      "Sum:  18.166666666666664\n"
     ]
    }
   ],
   "source": [
    "def sumOfSeries(num):\n",
    "    res = 0\n",
    "    fact = 1\n",
    "    for i in range(1, num+1):\n",
    "        fact *= i\n",
    "        res = res + (i**i/ fact)\n",
    "        print(f\"{i**i}/{i}!+\")\n",
    "    return res\n",
    "n=int(input(\"Enter number:\"))\n",
    "print(\"Sum: \", sumOfSeries(n))"
   ]
  },
  {
   "cell_type": "code",
   "execution_count": null,
   "metadata": {},
   "outputs": [],
   "source": []
  }
 ],
 "metadata": {
  "kernelspec": {
   "display_name": "Python 3",
   "language": "python",
   "name": "python3"
  },
  "language_info": {
   "codemirror_mode": {
    "name": "ipython",
    "version": 3
   },
   "file_extension": ".py",
   "mimetype": "text/x-python",
   "name": "python",
   "nbconvert_exporter": "python",
   "pygments_lexer": "ipython3",
   "version": "3.7.3"
  }
 },
 "nbformat": 4,
 "nbformat_minor": 2
}
